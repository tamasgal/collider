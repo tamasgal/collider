{
 "cells": [
  {
   "cell_type": "code",
   "execution_count": 1,
   "metadata": {},
   "outputs": [],
   "source": [
    "import matplotlib.pyplot as plt\n",
    "import pandas as pd\n",
    "import numpy as np\n",
    "from matplotlib.colors import LogNorm"
   ]
  },
  {
   "cell_type": "code",
   "execution_count": 77,
   "metadata": {},
   "outputs": [],
   "source": [
    "df = pd.read_csv(\"../parameter_scan.csv\", delim_whitespace=True, comment='#')"
   ]
  },
  {
   "cell_type": "code",
   "execution_count": 78,
   "metadata": {},
   "outputs": [
    {
     "data": {
      "text/html": [
       "<div>\n",
       "<style scoped>\n",
       "    .dataframe tbody tr th:only-of-type {\n",
       "        vertical-align: middle;\n",
       "    }\n",
       "\n",
       "    .dataframe tbody tr th {\n",
       "        vertical-align: top;\n",
       "    }\n",
       "\n",
       "    .dataframe thead th {\n",
       "        text-align: right;\n",
       "    }\n",
       "</style>\n",
       "<table border=\"1\" class=\"dataframe\">\n",
       "  <thead>\n",
       "    <tr style=\"text-align: right;\">\n",
       "      <th></th>\n",
       "      <th>x</th>\n",
       "      <th>y</th>\n",
       "      <th>points</th>\n",
       "      <th>n_ticks</th>\n",
       "      <th>consumed_balls</th>\n",
       "      <th>n_balls</th>\n",
       "      <th>multiplier</th>\n",
       "      <th>lifetime</th>\n",
       "      <th>target_size</th>\n",
       "      <th>magnet</th>\n",
       "      <th>repulsion</th>\n",
       "    </tr>\n",
       "  </thead>\n",
       "  <tbody>\n",
       "    <tr>\n",
       "      <th>576997</th>\n",
       "      <td>587</td>\n",
       "      <td>592</td>\n",
       "      <td>229</td>\n",
       "      <td>194</td>\n",
       "      <td>6</td>\n",
       "      <td>16</td>\n",
       "      <td>1.4641</td>\n",
       "      <td>120</td>\n",
       "      <td>80</td>\n",
       "      <td>2</td>\n",
       "      <td>0.55</td>\n",
       "    </tr>\n",
       "    <tr>\n",
       "      <th>576998</th>\n",
       "      <td>67</td>\n",
       "      <td>527</td>\n",
       "      <td>506</td>\n",
       "      <td>447</td>\n",
       "      <td>10</td>\n",
       "      <td>16</td>\n",
       "      <td>1.4641</td>\n",
       "      <td>120</td>\n",
       "      <td>80</td>\n",
       "      <td>2</td>\n",
       "      <td>0.55</td>\n",
       "    </tr>\n",
       "    <tr>\n",
       "      <th>576999</th>\n",
       "      <td>607</td>\n",
       "      <td>443</td>\n",
       "      <td>316</td>\n",
       "      <td>507</td>\n",
       "      <td>13</td>\n",
       "      <td>16</td>\n",
       "      <td>1.4641</td>\n",
       "      <td>120</td>\n",
       "      <td>80</td>\n",
       "      <td>2</td>\n",
       "      <td>0.55</td>\n",
       "    </tr>\n",
       "    <tr>\n",
       "      <th>577000</th>\n",
       "      <td>148</td>\n",
       "      <td>95</td>\n",
       "      <td>1131</td>\n",
       "      <td>369</td>\n",
       "      <td>12</td>\n",
       "      <td>16</td>\n",
       "      <td>1.4641</td>\n",
       "      <td>120</td>\n",
       "      <td>80</td>\n",
       "      <td>2</td>\n",
       "      <td>0.60</td>\n",
       "    </tr>\n",
       "    <tr>\n",
       "      <th>577001</th>\n",
       "      <td>64</td>\n",
       "      <td>448</td>\n",
       "      <td>1116996</td>\n",
       "      <td>754</td>\n",
       "      <td>12</td>\n",
       "      <td>16</td>\n",
       "      <td>1.4641</td>\n",
       "      <td>120</td>\n",
       "      <td>80</td>\n",
       "      <td>2</td>\n",
       "      <td>0.60</td>\n",
       "    </tr>\n",
       "  </tbody>\n",
       "</table>\n",
       "</div>"
      ],
      "text/plain": [
       "          x    y   points  n_ticks  consumed_balls  n_balls  multiplier  \\\n",
       "576997  587  592      229      194               6       16      1.4641   \n",
       "576998   67  527      506      447              10       16      1.4641   \n",
       "576999  607  443      316      507              13       16      1.4641   \n",
       "577000  148   95     1131      369              12       16      1.4641   \n",
       "577001   64  448  1116996      754              12       16      1.4641   \n",
       "\n",
       "        lifetime  target_size  magnet  repulsion  \n",
       "576997       120           80       2       0.55  \n",
       "576998       120           80       2       0.55  \n",
       "576999       120           80       2       0.55  \n",
       "577000       120           80       2       0.60  \n",
       "577001       120           80       2       0.60  "
      ]
     },
     "execution_count": 78,
     "metadata": {},
     "output_type": "execute_result"
    }
   ],
   "source": [
    "df.tail()"
   ]
  },
  {
   "cell_type": "code",
   "execution_count": 75,
   "metadata": {},
   "outputs": [
    {
     "data": {
      "text/html": [
       "<div>\n",
       "<style scoped>\n",
       "    .dataframe tbody tr th:only-of-type {\n",
       "        vertical-align: middle;\n",
       "    }\n",
       "\n",
       "    .dataframe tbody tr th {\n",
       "        vertical-align: top;\n",
       "    }\n",
       "\n",
       "    .dataframe thead th {\n",
       "        text-align: right;\n",
       "    }\n",
       "</style>\n",
       "<table border=\"1\" class=\"dataframe\">\n",
       "  <thead>\n",
       "    <tr style=\"text-align: right;\">\n",
       "      <th></th>\n",
       "      <th>x</th>\n",
       "      <th>y</th>\n",
       "      <th>points</th>\n",
       "      <th>n_ticks</th>\n",
       "      <th>consumed_balls</th>\n",
       "      <th>n_balls</th>\n",
       "      <th>multiplier</th>\n",
       "      <th>lifetime</th>\n",
       "      <th>target_size</th>\n",
       "      <th>magnet</th>\n",
       "      <th>repulsion</th>\n",
       "    </tr>\n",
       "  </thead>\n",
       "  <tbody>\n",
       "    <tr>\n",
       "      <th>373239</th>\n",
       "      <td>751</td>\n",
       "      <td>153</td>\n",
       "      <td>11594771</td>\n",
       "      <td>636</td>\n",
       "      <td>16</td>\n",
       "      <td>16</td>\n",
       "      <td>1.331</td>\n",
       "      <td>100</td>\n",
       "      <td>70</td>\n",
       "      <td>11</td>\n",
       "      <td>0.65</td>\n",
       "    </tr>\n",
       "    <tr>\n",
       "      <th>399623</th>\n",
       "      <td>80</td>\n",
       "      <td>286</td>\n",
       "      <td>15707676</td>\n",
       "      <td>133</td>\n",
       "      <td>16</td>\n",
       "      <td>16</td>\n",
       "      <td>1.331</td>\n",
       "      <td>120</td>\n",
       "      <td>85</td>\n",
       "      <td>8</td>\n",
       "      <td>0.60</td>\n",
       "    </tr>\n",
       "  </tbody>\n",
       "</table>\n",
       "</div>"
      ],
      "text/plain": [
       "          x    y    points  n_ticks  consumed_balls  n_balls  multiplier  \\\n",
       "373239  751  153  11594771      636              16       16       1.331   \n",
       "399623   80  286  15707676      133              16       16       1.331   \n",
       "\n",
       "        lifetime  target_size  magnet  repulsion  \n",
       "373239       100           70      11       0.65  \n",
       "399623       120           85       8       0.60  "
      ]
     },
     "execution_count": 75,
     "metadata": {},
     "output_type": "execute_result"
    }
   ],
   "source": [
    "df[df.points>1e7]"
   ]
  },
  {
   "cell_type": "markdown",
   "metadata": {},
   "source": [
    "#df.points.hist(bins=max(df.points))\n",
    "r = (df.points.min()-.5, df.points.max()+.5)\n",
    "plt.hist(df.points, range=r, bins=int(r[1]-r[0]), log=True);"
   ]
  },
  {
   "cell_type": "code",
   "execution_count": 74,
   "metadata": {},
   "outputs": [
    {
     "data": {
      "image/png": "[encoded data removed]",
      "text/plain": [
       "<Figure size 432x288 with 1 Axes>"
      ]
     },
     "metadata": {},
     "output_type": "display_data"
    }
   ],
   "source": [
    "plt.hist(df.points, bins=30, log=True);"
   ]
  },
  {
   "cell_type": "code",
   "execution_count": 59,
   "metadata": {},
   "outputs": [
    {
     "data": {
      "text/plain": [
       "<matplotlib.colorbar.Colorbar at 0x7fedfec75390>"
      ]
     },
     "execution_count": 59,
     "metadata": {},
     "output_type": "execute_result"
    },
    {
     "data": {
      "image/png": "[encoded data removed]",
      "text/plain": [
       "<Figure size 432x288 with 2 Axes>"
      ]
     },
     "metadata": {},
     "output_type": "display_data"
    }
   ],
   "source": [
    "plt.hist2d(df.x, -df.y, weights=df['points'], bins=(50, 50));\n",
    "plt.colorbar()"
   ]
  },
  {
   "cell_type": "code",
   "execution_count": 56,
   "metadata": {},
   "outputs": [
    {
     "data": {
      "text/plain": [
       "(33.504832138190146, 33.0)"
      ]
     },
     "execution_count": 56,
     "metadata": {},
     "output_type": "execute_result"
    }
   ],
   "source": [
    "df.points.mean(), df.points.median() "
   ]
  },
  {
   "cell_type": "code",
   "execution_count": 32,
   "metadata": {},
   "outputs": [
    {
     "data": {
      "text/plain": [
       "<matplotlib.colorbar.Colorbar at 0x7fee010052e8>"
      ]
     },
     "execution_count": 32,
     "metadata": {},
     "output_type": "execute_result"
    },
    {
     "data": {
      "image/png": "[encoded data removed]",
      "text/plain": [
       "<Figure size 432x288 with 2 Axes>"
      ]
     },
     "metadata": {},
     "output_type": "display_data"
    }
   ],
   "source": [
    "plt.hist2d(list(range(10))*2, list(range(10))*2, weights=list(range(10))*2, bins=(50, 50));\n",
    "plt.colorbar()"
   ]
  },
  {
   "cell_type": "code",
   "execution_count": null,
   "metadata": {},
   "outputs": [],
   "source": []
  },
  {
   "cell_type": "code",
   "execution_count": null,
   "metadata": {},
   "outputs": [],
   "source": []
  }
 ],
 "metadata": {
  "kernelspec": {
   "display_name": "Python 3",
   "language": "python",
   "name": "python3"
  },
  "language_info": {
   "codemirror_mode": {
    "name": "ipython",
    "version": 3
   },
   "file_extension": ".py",
   "mimetype": "text/x-python",
   "name": "python",
   "nbconvert_exporter": "python",
   "pygments_lexer": "ipython3",
   "version": "3.6.1"
  }
 },
 "nbformat": 4,
 "nbformat_minor": 4
}
